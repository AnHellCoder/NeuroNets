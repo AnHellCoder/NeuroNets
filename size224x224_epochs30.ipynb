{
 "cells": [
  {
   "cell_type": "code",
   "execution_count": 1,
   "id": "95b1535d",
   "metadata": {},
   "outputs": [
    {
     "name": "stdout",
     "output_type": "stream",
     "text": [
      "Mon Apr 17 15:34:30 2023       \n",
      "+-----------------------------------------------------------------------------+\n",
      "| NVIDIA-SMI 515.65.01    Driver Version: 515.65.01    CUDA Version: 11.8     |\n",
      "|-------------------------------+----------------------+----------------------+\n",
      "| GPU  Name        Persistence-M| Bus-Id        Disp.A | Volatile Uncorr. ECC |\n",
      "| Fan  Temp  Perf  Pwr:Usage/Cap|         Memory-Usage | GPU-Util  Compute M. |\n",
      "|                               |                      |               MIG M. |\n",
      "|===============================+======================+======================|\n",
      "|   0  Tesla V100-SXM2...  Off  | 00000000:15:00.0 Off |                    0 |\n",
      "| N/A   33C    P0    55W / 300W |      0MiB / 32768MiB |      2%      Default |\n",
      "|                               |                      |                  N/A |\n",
      "+-------------------------------+----------------------+----------------------+\n",
      "                                                                               \n",
      "+-----------------------------------------------------------------------------+\n",
      "| Processes:                                                                  |\n",
      "|  GPU   GI   CI        PID   Type   Process name                  GPU Memory |\n",
      "|        ID   ID                                                   Usage      |\n",
      "|=============================================================================|\n",
      "|  No running processes found                                                 |\n",
      "+-----------------------------------------------------------------------------+\n"
     ]
    }
   ],
   "source": [
    "!nvidia-smi"
   ]
  },
  {
   "cell_type": "code",
   "execution_count": 2,
   "id": "17ff3489",
   "metadata": {},
   "outputs": [],
   "source": [
    "import torch\n",
    "import numpy as np\n",
    "from torch.utils.data import random_split\n",
    "import torch.nn as nn\n",
    "import torch.nn.functional as F\n",
    "from torch.utils.data import Dataset\n",
    "import torchvision as tv\n",
    "from torch.utils.data.dataloader import DataLoader\n",
    "from torchvision import models as models\n",
    "from tqdm import tqdm\n",
    "import matplotlib.pyplot as plt\n",
    "import os"
   ]
  },
  {
   "cell_type": "code",
   "execution_count": 3,
   "id": "71249620",
   "metadata": {},
   "outputs": [],
   "source": [
    "class SimpsonsDataset(Dataset):\n",
    "    def __init__(self, transform=None) -> None:\n",
    "        super().__init__()\n",
    "\n",
    "        self.dataset = tv.datasets.ImageFolder('/usr/src/app/simpsons_dataset_kaggle', transform=transform)\n",
    "        \n",
    "    def __getitem__(self, index):\n",
    "        return self.dataset[index]\n",
    "        \n",
    "    def __len__(self):\n",
    "        return len(self.dataset)"
   ]
  },
  {
   "cell_type": "code",
   "execution_count": 4,
   "id": "da397601",
   "metadata": {},
   "outputs": [],
   "source": [
    "def train_step():\n",
    "    model.train()\n",
    "    \n",
    "    running_loss = 0.\n",
    "    for images, labels in train_loader:\n",
    "        #Переводим изображения и лейблы на GPU\n",
    "        images = images.to(device)\n",
    "        labels = labels.to(device)\n",
    "        \n",
    "        # Удаляем накопленные ранее градиенты.\n",
    "        # parameter.grad = 0\n",
    "        optimizer.zero_grad()\n",
    "        \n",
    "        # Делаем проход (forward pass).\n",
    "        # Состояние модели `train` обеспечивает сохранение промежуточных результатов вычислений.\n",
    "        # Эти сохраненные значения будут использованы ниже для вычисления градиента функции потерь.\n",
    "        output = model(images)\n",
    "        \n",
    "        # Вычисляем функцию потерь на основе предсказания модели.\n",
    "        loss = criterion(output, labels)\n",
    "\n",
    "        # Вычисляем градиент: направление, в котором функция потерь возрастает максимально быстро.\n",
    "        # parameter.grad += dloss / dparameter\n",
    "        loss.backward()\n",
    "\n",
    "        # parameter += -lr * parameter.grad\n",
    "        # \n",
    "        # PyTorch SGD:\n",
    "        # velocity = momentum * velocity + parameter.grad\n",
    "        # parameter += - lr * velocity\n",
    "        optimizer.step()\n",
    "        \n",
    "        # Накапливаем статистику.\n",
    "        running_loss += loss\n",
    "    \n",
    "    with torch.no_grad():\n",
    "        train_loss = running_loss / len(dataset)\n",
    "    return train_loss.item()\n",
    "\n",
    "def valid_step():\n",
    "    model.eval()\n",
    "\n",
    "    correct_total = 0.\n",
    "    running_loss = 0.\n",
    "    with torch.no_grad():\n",
    "        for images, labels in valid_loader:\n",
    "            images = images.to(device)\n",
    "            labels = labels.to(device)\n",
    "            \n",
    "            output = model(images)\n",
    "            \n",
    "            prediction = output.argmax(dim=1)\n",
    "            correct_total += prediction.eq(labels.view_as(prediction)).sum()\n",
    "            \n",
    "            loss = criterion(output, labels)\n",
    "            running_loss += loss\n",
    "        \n",
    "    valid_loss = running_loss / len(valid_loader)\n",
    "    accuracy = correct_total / len(valid_loader.dataset)\n",
    "    return valid_loss.item(), accuracy.item()\n",
    "\n",
    "def test_step():\n",
    "    correct = 0\n",
    "    total = 0\n",
    "    # since we're not training, we don't need to calculate the gradients for our outputs\n",
    "    with torch.no_grad():\n",
    "        for data in test_loader:\n",
    "            images, labels = data\n",
    "            # calculate outputs by running images through the network\n",
    "            outputs = net(images)\n",
    "            # the class with the highest energy is what we choose as prediction\n",
    "            _, predicted = torch.max(outputs.data, 1)\n",
    "            total += labels.size(0)\n",
    "            correct += (predicted == labels).sum().item()\n",
    "\n",
    "    print(f'Accuracy of the network on the 10000 test images: {100 * correct // total} %')"
   ]
  },
  {
   "cell_type": "code",
   "execution_count": 5,
   "id": "7680f0fc",
   "metadata": {},
   "outputs": [
    {
     "name": "stdout",
     "output_type": "stream",
     "text": [
      "cuda:0\n"
     ]
    },
    {
     "name": "stderr",
     "output_type": "stream",
     "text": [
      "  0%|          | 0/30 [00:00<?, ?it/s]/usr/local/lib/python3.8/dist-packages/torchvision/transforms/functional.py:1603: UserWarning: The default value of the antialias parameter of all the resizing transforms (Resize(), RandomResizedCrop(), etc.) will change from None to True in v0.17, in order to be consistent across the PIL and Tensor backends. To suppress this warning, directly pass antialias=True (recommended, future default), antialias=None (current default, which means False for Tensors and True for PIL), or antialias=False (only works on Tensors - PIL will still use antialiasing). This also applies if you are using the inference transforms from the models weights: update the call to weights.transforms(antialias=True).\n",
      "  warnings.warn(\n",
      "Avg. train/valid loss: 0.8141/2.5360:   3%|▎         | 1/30 [02:16<1:05:49, 136.18s/it]"
     ]
    },
    {
     "name": "stdout",
     "output_type": "stream",
     "text": [
      "Epoch passed successfully\n"
     ]
    },
    {
     "name": "stderr",
     "output_type": "stream",
     "text": [
      "Avg. train/valid loss: 0.4333/1.2181:   7%|▋         | 2/30 [04:23<1:01:02, 130.81s/it]"
     ]
    },
    {
     "name": "stdout",
     "output_type": "stream",
     "text": [
      "Epoch passed successfully\n"
     ]
    },
    {
     "name": "stderr",
     "output_type": "stream",
     "text": [
      "Avg. train/valid loss: 0.2594/0.9069:  10%|█         | 3/30 [06:29<57:52, 128.63s/it]  "
     ]
    },
    {
     "name": "stdout",
     "output_type": "stream",
     "text": [
      "Epoch passed successfully\n"
     ]
    },
    {
     "name": "stderr",
     "output_type": "stream",
     "text": [
      "Avg. train/valid loss: 0.1808/0.7660:  13%|█▎        | 4/30 [08:33<55:03, 127.05s/it]"
     ]
    },
    {
     "name": "stdout",
     "output_type": "stream",
     "text": [
      "Epoch passed successfully\n"
     ]
    },
    {
     "name": "stderr",
     "output_type": "stream",
     "text": [
      "Avg. train/valid loss: 0.1354/0.5909:  17%|█▋        | 5/30 [10:38<52:34, 126.17s/it]"
     ]
    },
    {
     "name": "stdout",
     "output_type": "stream",
     "text": [
      "Epoch passed successfully\n"
     ]
    },
    {
     "name": "stderr",
     "output_type": "stream",
     "text": [
      "Avg. train/valid loss: 0.1000/0.5040:  20%|██        | 6/30 [12:42<50:09, 125.38s/it]"
     ]
    },
    {
     "name": "stdout",
     "output_type": "stream",
     "text": [
      "Epoch passed successfully\n"
     ]
    },
    {
     "name": "stderr",
     "output_type": "stream",
     "text": [
      "Avg. train/valid loss: 0.0758/0.4496:  23%|██▎       | 7/30 [14:47<48:04, 125.43s/it]"
     ]
    },
    {
     "name": "stdout",
     "output_type": "stream",
     "text": [
      "Epoch passed successfully\n"
     ]
    },
    {
     "name": "stderr",
     "output_type": "stream",
     "text": [
      "Avg. train/valid loss: 0.0558/0.4816:  27%|██▋       | 8/30 [16:52<45:56, 125.32s/it]"
     ]
    },
    {
     "name": "stdout",
     "output_type": "stream",
     "text": [
      "Epoch passed successfully\n"
     ]
    },
    {
     "name": "stderr",
     "output_type": "stream",
     "text": [
      "Avg. train/valid loss: 0.0395/0.4822:  30%|███       | 9/30 [18:57<43:45, 125.04s/it]"
     ]
    },
    {
     "name": "stdout",
     "output_type": "stream",
     "text": [
      "Epoch passed successfully\n"
     ]
    },
    {
     "name": "stderr",
     "output_type": "stream",
     "text": [
      "Avg. train/valid loss: 0.0284/0.5023:  33%|███▎      | 10/30 [21:01<41:35, 124.77s/it]"
     ]
    },
    {
     "name": "stdout",
     "output_type": "stream",
     "text": [
      "Epoch passed successfully\n"
     ]
    },
    {
     "name": "stderr",
     "output_type": "stream",
     "text": [
      "Avg. train/valid loss: 0.0205/0.4186:  37%|███▋      | 11/30 [23:05<39:27, 124.60s/it]"
     ]
    },
    {
     "name": "stdout",
     "output_type": "stream",
     "text": [
      "Epoch passed successfully\n"
     ]
    },
    {
     "name": "stderr",
     "output_type": "stream",
     "text": [
      "Avg. train/valid loss: 0.0145/0.4167:  40%|████      | 12/30 [25:10<37:24, 124.70s/it]"
     ]
    },
    {
     "name": "stdout",
     "output_type": "stream",
     "text": [
      "Epoch passed successfully\n"
     ]
    },
    {
     "name": "stderr",
     "output_type": "stream",
     "text": [
      "Avg. train/valid loss: 0.0093/0.3927:  43%|████▎     | 13/30 [27:14<35:12, 124.29s/it]"
     ]
    },
    {
     "name": "stdout",
     "output_type": "stream",
     "text": [
      "Epoch passed successfully\n"
     ]
    },
    {
     "name": "stderr",
     "output_type": "stream",
     "text": [
      "Avg. train/valid loss: 0.0080/0.3972:  47%|████▋     | 14/30 [29:18<33:07, 124.24s/it]"
     ]
    },
    {
     "name": "stdout",
     "output_type": "stream",
     "text": [
      "Epoch passed successfully\n"
     ]
    },
    {
     "name": "stderr",
     "output_type": "stream",
     "text": [
      "Avg. train/valid loss: 0.0055/0.3630:  50%|█████     | 15/30 [31:22<31:05, 124.35s/it]"
     ]
    },
    {
     "name": "stdout",
     "output_type": "stream",
     "text": [
      "Epoch passed successfully\n"
     ]
    },
    {
     "name": "stderr",
     "output_type": "stream",
     "text": [
      "Avg. train/valid loss: 0.0041/0.3611:  53%|█████▎    | 16/30 [33:27<29:01, 124.36s/it]"
     ]
    },
    {
     "name": "stdout",
     "output_type": "stream",
     "text": [
      "Epoch passed successfully\n"
     ]
    },
    {
     "name": "stderr",
     "output_type": "stream",
     "text": [
      "Avg. train/valid loss: 0.0028/0.3949:  57%|█████▋    | 17/30 [35:32<27:02, 124.79s/it]"
     ]
    },
    {
     "name": "stdout",
     "output_type": "stream",
     "text": [
      "Epoch passed successfully\n"
     ]
    },
    {
     "name": "stderr",
     "output_type": "stream",
     "text": [
      "Avg. train/valid loss: 0.0025/0.3818:  60%|██████    | 18/30 [37:38<24:59, 124.96s/it]"
     ]
    },
    {
     "name": "stdout",
     "output_type": "stream",
     "text": [
      "Epoch passed successfully\n"
     ]
    },
    {
     "name": "stderr",
     "output_type": "stream",
     "text": [
      "Avg. train/valid loss: 0.0043/0.4103:  63%|██████▎   | 19/30 [39:43<22:54, 124.97s/it]"
     ]
    },
    {
     "name": "stdout",
     "output_type": "stream",
     "text": [
      "Epoch passed successfully\n"
     ]
    },
    {
     "name": "stderr",
     "output_type": "stream",
     "text": [
      "Avg. train/valid loss: 0.0034/0.4105:  67%|██████▋   | 20/30 [41:47<20:48, 124.88s/it]"
     ]
    },
    {
     "name": "stdout",
     "output_type": "stream",
     "text": [
      "Epoch passed successfully\n"
     ]
    },
    {
     "name": "stderr",
     "output_type": "stream",
     "text": [
      "Avg. train/valid loss: 0.0024/0.3952:  70%|███████   | 21/30 [43:54<18:47, 125.32s/it]"
     ]
    },
    {
     "name": "stdout",
     "output_type": "stream",
     "text": [
      "Epoch passed successfully\n"
     ]
    },
    {
     "name": "stderr",
     "output_type": "stream",
     "text": [
      "Avg. train/valid loss: 0.0012/0.3585:  73%|███████▎  | 22/30 [46:00<16:45, 125.73s/it]"
     ]
    },
    {
     "name": "stdout",
     "output_type": "stream",
     "text": [
      "Epoch passed successfully\n"
     ]
    },
    {
     "name": "stderr",
     "output_type": "stream",
     "text": [
      "Avg. train/valid loss: 0.0010/0.3528:  77%|███████▋  | 23/30 [48:05<14:37, 125.31s/it]"
     ]
    },
    {
     "name": "stdout",
     "output_type": "stream",
     "text": [
      "Epoch passed successfully\n"
     ]
    },
    {
     "name": "stderr",
     "output_type": "stream",
     "text": [
      "Avg. train/valid loss: 0.0020/0.3614:  80%|████████  | 24/30 [50:08<12:28, 124.74s/it]"
     ]
    },
    {
     "name": "stdout",
     "output_type": "stream",
     "text": [
      "Epoch passed successfully\n"
     ]
    },
    {
     "name": "stderr",
     "output_type": "stream",
     "text": [
      "Avg. train/valid loss: 0.0034/0.3916:  83%|████████▎ | 25/30 [52:13<10:23, 124.71s/it]"
     ]
    },
    {
     "name": "stdout",
     "output_type": "stream",
     "text": [
      "Epoch passed successfully\n"
     ]
    },
    {
     "name": "stderr",
     "output_type": "stream",
     "text": [
      "Avg. train/valid loss: 0.0024/0.4128:  87%|████████▋ | 26/30 [54:18<08:19, 124.81s/it]"
     ]
    },
    {
     "name": "stdout",
     "output_type": "stream",
     "text": [
      "Epoch passed successfully\n"
     ]
    },
    {
     "name": "stderr",
     "output_type": "stream",
     "text": [
      "Avg. train/valid loss: 0.0017/0.4454:  90%|█████████ | 27/30 [56:22<06:13, 124.62s/it]"
     ]
    },
    {
     "name": "stdout",
     "output_type": "stream",
     "text": [
      "Epoch passed successfully\n"
     ]
    },
    {
     "name": "stderr",
     "output_type": "stream",
     "text": [
      "Avg. train/valid loss: 0.0020/0.3868:  93%|█████████▎| 28/30 [58:27<04:09, 124.72s/it]"
     ]
    },
    {
     "name": "stdout",
     "output_type": "stream",
     "text": [
      "Epoch passed successfully\n"
     ]
    },
    {
     "name": "stderr",
     "output_type": "stream",
     "text": [
      "Avg. train/valid loss: 0.0017/0.3541:  97%|█████████▋| 29/30 [1:00:32<02:04, 124.83s/it]"
     ]
    },
    {
     "name": "stdout",
     "output_type": "stream",
     "text": [
      "Epoch passed successfully\n"
     ]
    },
    {
     "name": "stderr",
     "output_type": "stream",
     "text": [
      "Avg. train/valid loss: 0.0008/0.3731: 100%|██████████| 30/30 [1:02:38<00:00, 125.27s/it]"
     ]
    },
    {
     "name": "stdout",
     "output_type": "stream",
     "text": [
      "Epoch passed successfully\n"
     ]
    },
    {
     "name": "stderr",
     "output_type": "stream",
     "text": [
      "\n"
     ]
    },
    {
     "data": {
      "text/plain": [
       "Text(0, 0.5, 'Loss')"
      ]
     },
     "execution_count": 5,
     "metadata": {},
     "output_type": "execute_result"
    },
    {
     "data": {
      "image/png": "[encoded data removed]",
      "text/plain": [
       "<Figure size 1600x1200 with 1 Axes>"
      ]
     },
     "metadata": {},
     "output_type": "display_data"
    }
   ],
   "source": [
    "trans=tv.transforms.Compose([tv.transforms.ToTensor(), tv.transforms.Resize([224, 224])])\n",
    "dataset = SimpsonsDataset(transform=trans)\n",
    "\n",
    "device = torch.device('cuda:0' if torch.cuda.is_available() else 'cpu')\n",
    "# Assuming that we are on a CUDA machine, this should print a CUDA device:\n",
    "print(device)\n",
    "\n",
    "train_set, valid_set = random_split(dataset=dataset, lengths=[17799, 3142])\n",
    "\n",
    "#model = tv.models.resnet18()\n",
    "#model.fc = nn.Linear(in_features=512, out_features=43, bias=True)\n",
    "\n",
    "model = tv.models.resnet18()\n",
    "model.fc = nn.Linear(in_features=512, out_features=43, bias=True)\n",
    "model.to(device)\n",
    "\n",
    "\n",
    "train_loader, valid_loader = DataLoader(dataset=train_set, batch_size=3, shuffle=True), DataLoader(dataset=valid_set, batch_size=3, shuffle=True)\n",
    "criterion = nn.CrossEntropyLoss()\n",
    "optimizer = torch.optim.SGD(\n",
    "    params=model.parameters(),\n",
    "    lr=0.01,\n",
    "    momentum=0.9,\n",
    ")\n",
    "\n",
    "epochs = 30\n",
    "train_losses = []\n",
    "valid_losses = []\n",
    "valid_accs = []\n",
    "\n",
    "pbar = tqdm(range(epochs))\n",
    "\n",
    "for _ in pbar:\n",
    "    train_loss = train_step()\n",
    "    valid_loss, valid_acc = valid_step()\n",
    "    \n",
    "    train_losses.append(train_loss)\n",
    "    valid_losses.append(valid_loss)\n",
    "    valid_accs.append(valid_acc)\n",
    "    \n",
    "    pbar.set_description(f'Avg. train/valid loss: {train_loss:.4f}/{valid_loss:.4f}')\n",
    "    print('Epoch passed successfully')\n",
    "\n",
    "fig = plt.figure(figsize=(16, 12))\n",
    "\n",
    "plt.plot(train_losses[1:], label='train')\n",
    "plt.plot(valid_losses[1:], label='valid')\n",
    "plt.legend()\n",
    "plt.xlabel('Iterations')\n",
    "plt.ylabel('Loss')"
   ]
  },
  {
   "cell_type": "code",
   "execution_count": 6,
   "id": "920d979a",
   "metadata": {},
   "outputs": [
    {
     "data": {
      "text/plain": [
       "Text(0, 0.5, 'Accuracy')"
      ]
     },
     "execution_count": 6,
     "metadata": {},
     "output_type": "execute_result"
    },
    {
     "data": {
      "image/png": "[encoded data removed]",
      "text/plain": [
       "<Figure size 1600x1200 with 1 Axes>"
      ]
     },
     "metadata": {},
     "output_type": "display_data"
    }
   ],
   "source": [
    "fig = plt.figure(figsize=(16, 12))\n",
    "\n",
    "plt.plot(valid_accs)\n",
    "plt.xlabel('Iterations')\n",
    "plt.ylabel('Accuracy')"
   ]
  },
  {
   "cell_type": "code",
   "execution_count": 7,
   "id": "c5887c9b",
   "metadata": {},
   "outputs": [
    {
     "name": "stdout",
     "output_type": "stream",
     "text": [
      "0.8854232430458069\n",
      "{0: 'comic_book_guy', 1: 'fat_tony', 2: 'lisa_simpson', 3: 'charles_montgomery_burns', 4: 'nelson_muntz', 5: 'edna_krabappel', 6: 'selma_bouvier', 7: 'martin_prince', 8: 'moe_szyslak', 9: 'kent_brockman', 10: 'apu_nahasapeemapetilon', 11: 'miss_hoover', 12: 'sideshow_bob', 13: 'sideshow_mel', 14: 'lionel_hutz', 15: 'marge_simpson', 16: 'milhouse_van_houten', 17: 'ned_flanders', 18: 'carl_carlson', 19: 'rainier_wolfcastle', 20: 'patty_bouvier', 21: 'waylon_smithers', 22: 'lenny_leonard', 23: 'gil', 24: 'otto_mann', 25: 'chief_wiggum', 26: 'abraham_grampa_simpson', 27: 'cletus_spuckler', 28: 'mayor_quimby', 29: 'homer_simpson', 30: 'principal_skinner', 31: 'ralph_wiggum', 32: 'troy_mcclure', 33: 'snake_jailbird', 34: 'agnes_skinner', 35: 'groundskeeper_willie', 36: 'bart_simpson', 37: 'maggie_simpson', 38: 'krusty_the_clown', 39: 'disco_stu', 40: 'professor_john_frink', 41: 'barney_gumble'}\n"
     ]
    }
   ],
   "source": [
    "print(valid_accs[9])\n",
    "\n",
    "path_for_test = '/usr/src/app/kaggle_simpson_testset'\n",
    "testset = os.listdir(path_for_test)\n",
    "val = os.listdir('/usr/src/app/simpsons_dataset_kaggle')\n",
    "key = [i for i in range(len(val))]\n",
    "\n",
    "dic = zip(key, val)\n",
    "dic = dict(dic)\n",
    "print(dic)"
   ]
  },
  {
   "cell_type": "code",
   "execution_count": 8,
   "id": "76ad337b",
   "metadata": {},
   "outputs": [],
   "source": [
    "name = []\n",
    "correct = 0\n",
    "\n",
    "for i in range(len(testset)):\n",
    "    name.append(testset[i])\n",
    "    testset[i] = tv.io.read_image(path_for_test + '/' + testset[i])\n",
    "    testset[i].resize_(3, 224, 224)\n",
    "    testset[i] = testset[0].to(torch.float32)\n",
    "    testset[i] = testset[0].to(device)\n",
    "    output = model(testset[i].unsqueeze(0))\n",
    "    classified = dic[output.argmax(dim=1).item()]\n",
    "    \n",
    "    if name[i].find(classified) != -1:\n",
    "        correct += 1"
   ]
  },
  {
   "cell_type": "code",
   "execution_count": 9,
   "id": "8ec24672",
   "metadata": {},
   "outputs": [
    {
     "data": {
      "text/plain": [
       "48"
      ]
     },
     "execution_count": 9,
     "metadata": {},
     "output_type": "execute_result"
    }
   ],
   "source": [
    "correct"
   ]
  },
  {
   "cell_type": "code",
   "execution_count": 10,
   "id": "94900071",
   "metadata": {},
   "outputs": [
    {
     "data": {
      "text/plain": [
       "990"
      ]
     },
     "execution_count": 10,
     "metadata": {},
     "output_type": "execute_result"
    }
   ],
   "source": [
    "len(testset)"
   ]
  },
  {
   "cell_type": "code",
   "execution_count": 11,
   "id": "ed42cb17",
   "metadata": {},
   "outputs": [
    {
     "data": {
      "text/plain": [
       "4.848484848484849"
      ]
     },
     "execution_count": 11,
     "metadata": {},
     "output_type": "execute_result"
    }
   ],
   "source": [
    "(correct / len(testset)) * 100"
   ]
  },
  {
   "cell_type": "code",
   "execution_count": null,
   "id": "5cd48a4e",
   "metadata": {},
   "outputs": [],
   "source": []
  }
 ],
 "metadata": {
  "kernelspec": {
   "display_name": "Python 3 (ipykernel)",
   "language": "python",
   "name": "python3"
  },
  "language_info": {
   "codemirror_mode": {
    "name": "ipython",
    "version": 3
   },
   "file_extension": ".py",
   "mimetype": "text/x-python",
   "name": "python",
   "nbconvert_exporter": "python",
   "pygments_lexer": "ipython3",
   "version": "3.8.10"
  }
 },
 "nbformat": 4,
 "nbformat_minor": 5
}
