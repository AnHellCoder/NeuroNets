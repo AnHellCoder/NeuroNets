{
 "cells": [
  {
   "cell_type": "code",
   "execution_count": 1,
   "id": "15f9f4ec",
   "metadata": {},
   "outputs": [
    {
     "name": "stdout",
     "output_type": "stream",
     "text": [
      "Thu Apr 27 21:57:28 2023       \n",
      "+-----------------------------------------------------------------------------+\n",
      "| NVIDIA-SMI 515.65.01    Driver Version: 515.65.01    CUDA Version: 11.8     |\n",
      "|-------------------------------+----------------------+----------------------+\n",
      "| GPU  Name        Persistence-M| Bus-Id        Disp.A | Volatile Uncorr. ECC |\n",
      "| Fan  Temp  Perf  Pwr:Usage/Cap|         Memory-Usage | GPU-Util  Compute M. |\n",
      "|                               |                      |               MIG M. |\n",
      "|===============================+======================+======================|\n",
      "|   0  Tesla V100-SXM2...  Off  | 00000000:15:00.0 Off |                    0 |\n",
      "| N/A   33C    P0    55W / 300W |  13129MiB / 32768MiB |      0%      Default |\n",
      "|                               |                      |                  N/A |\n",
      "+-------------------------------+----------------------+----------------------+\n",
      "                                                                               \n",
      "+-----------------------------------------------------------------------------+\n",
      "| Processes:                                                                  |\n",
      "|  GPU   GI   CI        PID   Type   Process name                  GPU Memory |\n",
      "|        ID   ID                                                   Usage      |\n",
      "|=============================================================================|\n",
      "+-----------------------------------------------------------------------------+\n"
     ]
    }
   ],
   "source": [
    "!nvidia-smi"
   ]
  },
  {
   "cell_type": "code",
   "execution_count": 2,
   "id": "ec5c204b",
   "metadata": {},
   "outputs": [],
   "source": [
    "import torch\n",
    "import numpy as np\n",
    "from torch.utils.data import random_split\n",
    "import torch.nn as nn\n",
    "import torch.nn.functional as F\n",
    "from torch.utils.data import Dataset\n",
    "import torchvision as tv\n",
    "from torch.utils.data.dataloader import DataLoader\n",
    "from torchvision import models as models\n",
    "from tqdm import tqdm\n",
    "import matplotlib.pyplot as plt\n",
    "import os\n",
    "import ipdb"
   ]
  },
  {
   "cell_type": "code",
   "execution_count": 3,
   "id": "fce037b2",
   "metadata": {},
   "outputs": [],
   "source": [
    "class SimpsonsTestset(Dataset):\n",
    "    def __init__(self, folder=None):\n",
    "        super().__init__()\n",
    "        \n",
    "        self.testset = os.listdir(folder)\n",
    "        self.folder = self.testset.copy()\n",
    "        for i in range(len(self.testset)):\n",
    "            self.testset[i] = tv.io.read_image(folder + '/' + self.testset[i])\n",
    "            self.testset[i] = self.testset[i].resize_(3, 156, 156)\n",
    "            self.testset[i] = self.testset[i].to(torch.float32)\n",
    "            self.testset[i] = self.testset[i].to(device) / 255\n",
    "        \n",
    "        self.dictionary = tv.datasets.ImageFolder('/usr/src/app/simpsons_dataset_kaggle')\n",
    "        self.dictionary = self.dictionary.class_to_idx\n",
    "        self.dictionary = dict((v,k) for k,v in self.dictionary.items())\n",
    "    \n",
    "    def __getitem__(self, index):\n",
    "        return self.testset[index], self.folder[index]\n",
    "    \n",
    "    def __len__(self):\n",
    "        return len(self.testset)"
   ]
  },
  {
   "cell_type": "code",
   "execution_count": 4,
   "id": "9bbb07c6",
   "metadata": {},
   "outputs": [],
   "source": [
    "def test_step():\n",
    "    model.eval()\n",
    "\n",
    "    correct_total = 0\n",
    "    k = 0\n",
    "    with torch.no_grad():\n",
    "        for images, filenames in test_loader.dataset:\n",
    "            images = images.to(device)\n",
    "            \n",
    "            output = model(images.unsqueeze(0))\n",
    "            \n",
    "            prediction = test_loader.dataset.dictionary[output.argmax(dim=1).item()]\n",
    "            if filenames.find(prediction) != -1:\n",
    "                correct_total += 1\n",
    "                \n",
    "            k += 1\n",
    "            \n",
    "            #correct_total += prediction.eq(labels.view_as(prediction)).sum()\n",
    "            \n",
    "            #loss = criterion(output, labels)\n",
    "            #running_loss += loss\n",
    "    \n",
    "    return correct_total\n",
    "\n",
    "def load_model():\n",
    "    return torch.load('best_accuracy_point')"
   ]
  },
  {
   "cell_type": "code",
   "execution_count": 5,
   "id": "c6a04e25",
   "metadata": {},
   "outputs": [
    {
     "name": "stdout",
     "output_type": "stream",
     "text": [
      "cuda:0\n",
      "50/990 classified correctly\n"
     ]
    }
   ],
   "source": [
    "model = load_model()\n",
    "trans=tv.transforms.Compose([tv.transforms.Resize([156,156]),\n",
    "                             tv.transforms.ToTensor(),\n",
    "                             tv.transforms.Normalize(mean=[0, 0, 0], std=[255, 255, 255])])\n",
    "\n",
    "device = torch.device('cuda:0' if torch.cuda.is_available() else 'cpu')\n",
    "# Assuming that we are on a CUDA machine, this should print a CUDA device:\n",
    "print(device)\n",
    "\n",
    "folder = 'kaggle_simpson_testset'\n",
    "testset = SimpsonsTestset(folder=folder)\n",
    "\n",
    "test_loader = DataLoader(dataset=testset, batch_size=1, shuffle=False)\n",
    "model.to(device)\n",
    "\n",
    "print('{0}/{1} classified correctly'.format(test_step(), len(testset)))"
   ]
  }
 ],
 "metadata": {
  "kernelspec": {
   "display_name": "Python 3 (ipykernel)",
   "language": "python",
   "name": "python3"
  },
  "language_info": {
   "codemirror_mode": {
    "name": "ipython",
    "version": 3
   },
   "file_extension": ".py",
   "mimetype": "text/x-python",
   "name": "python",
   "nbconvert_exporter": "python",
   "pygments_lexer": "ipython3",
   "version": "3.8.10"
  }
 },
 "nbformat": 4,
 "nbformat_minor": 5
}
