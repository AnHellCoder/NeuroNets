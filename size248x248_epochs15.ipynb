{
 "cells": [
  {
   "cell_type": "code",
   "execution_count": 1,
   "id": "788bcc1d",
   "metadata": {},
   "outputs": [
    {
     "name": "stdout",
     "output_type": "stream",
     "text": [
      "Wed Apr 19 12:23:50 2023       \n",
      "+-----------------------------------------------------------------------------+\n",
      "| NVIDIA-SMI 515.65.01    Driver Version: 515.65.01    CUDA Version: 11.8     |\n",
      "|-------------------------------+----------------------+----------------------+\n",
      "| GPU  Name        Persistence-M| Bus-Id        Disp.A | Volatile Uncorr. ECC |\n",
      "| Fan  Temp  Perf  Pwr:Usage/Cap|         Memory-Usage | GPU-Util  Compute M. |\n",
      "|                               |                      |               MIG M. |\n",
      "|===============================+======================+======================|\n",
      "|   0  Tesla V100-SXM2...  Off  | 00000000:15:00.0 Off |                    0 |\n",
      "| N/A   32C    P0    55W / 300W |      0MiB / 32768MiB |      2%      Default |\n",
      "|                               |                      |                  N/A |\n",
      "+-------------------------------+----------------------+----------------------+\n",
      "                                                                               \n",
      "+-----------------------------------------------------------------------------+\n",
      "| Processes:                                                                  |\n",
      "|  GPU   GI   CI        PID   Type   Process name                  GPU Memory |\n",
      "|        ID   ID                                                   Usage      |\n",
      "|=============================================================================|\n",
      "|  No running processes found                                                 |\n",
      "+-----------------------------------------------------------------------------+\n"
     ]
    }
   ],
   "source": [
    "!nvidia-smi"
   ]
  },
  {
   "cell_type": "code",
   "execution_count": 2,
   "id": "9f63dabf",
   "metadata": {},
   "outputs": [],
   "source": [
    "import torch\n",
    "import numpy as np\n",
    "from torch.utils.data import random_split\n",
    "import torch.nn as nn\n",
    "import torch.nn.functional as F\n",
    "from torch.utils.data import Dataset\n",
    "import torchvision as tv\n",
    "from torch.utils.data.dataloader import DataLoader\n",
    "from torchvision import models as models\n",
    "from tqdm import tqdm\n",
    "import matplotlib.pyplot as plt\n",
    "import os"
   ]
  },
  {
   "cell_type": "code",
   "execution_count": 3,
   "id": "39068505",
   "metadata": {},
   "outputs": [],
   "source": [
    "class SimpsonsDataset(Dataset):\n",
    "    def __init__(self, transform=None) -> None:\n",
    "        super().__init__()\n",
    "\n",
    "        self.dataset = tv.datasets.ImageFolder('/usr/src/app/simpsons_dataset_kaggle', transform=transform)\n",
    "        \n",
    "    def __getitem__(self, index):\n",
    "        return self.dataset[index]\n",
    "        \n",
    "    def __len__(self):\n",
    "        return len(self.dataset)"
   ]
  },
  {
   "cell_type": "code",
   "execution_count": 4,
   "id": "86dfa3d1",
   "metadata": {},
   "outputs": [],
   "source": [
    "def train_step():\n",
    "    model.train()\n",
    "    \n",
    "    running_loss = 0.\n",
    "    for images, labels in train_loader:\n",
    "        #Переводим изображения и лейблы на GPU\n",
    "        images = images.to(device)\n",
    "        labels = labels.to(device)\n",
    "        \n",
    "        # Удаляем накопленные ранее градиенты.\n",
    "        # parameter.grad = 0\n",
    "        optimizer.zero_grad()\n",
    "        \n",
    "        # Делаем проход (forward pass).\n",
    "        # Состояние модели `train` обеспечивает сохранение промежуточных результатов вычислений.\n",
    "        # Эти сохраненные значения будут использованы ниже для вычисления градиента функции потерь.\n",
    "        output = model(images)\n",
    "        \n",
    "        # Вычисляем функцию потерь на основе предсказания модели.\n",
    "        loss = criterion(output, labels)\n",
    "\n",
    "        # Вычисляем градиент: направление, в котором функция потерь возрастает максимально быстро.\n",
    "        # parameter.grad += dloss / dparameter\n",
    "        loss.backward()\n",
    "\n",
    "        # parameter += -lr * parameter.grad\n",
    "        # \n",
    "        # PyTorch SGD:\n",
    "        # velocity = momentum * velocity + parameter.grad\n",
    "        # parameter += - lr * velocity\n",
    "        optimizer.step()\n",
    "        \n",
    "        # Накапливаем статистику.\n",
    "        running_loss += loss\n",
    "    \n",
    "    with torch.no_grad():\n",
    "        train_loss = running_loss / len(dataset)\n",
    "    return train_loss.item()\n",
    "\n",
    "def valid_step():\n",
    "    model.eval()\n",
    "\n",
    "    correct_total = 0.\n",
    "    running_loss = 0.\n",
    "    with torch.no_grad():\n",
    "        for images, labels in valid_loader:\n",
    "            images = images.to(device)\n",
    "            labels = labels.to(device)\n",
    "            \n",
    "            output = model(images)\n",
    "            \n",
    "            prediction = output.argmax(dim=1)\n",
    "            correct_total += prediction.eq(labels.view_as(prediction)).sum()\n",
    "            \n",
    "            loss = criterion(output, labels)\n",
    "            running_loss += loss\n",
    "        \n",
    "    valid_loss = running_loss / len(valid_loader)\n",
    "    accuracy = correct_total / len(valid_loader.dataset)\n",
    "    return valid_loss.item(), accuracy.item()\n",
    "\n",
    "def test_step():\n",
    "    correct = 0\n",
    "    total = 0\n",
    "    # since we're not training, we don't need to calculate the gradients for our outputs\n",
    "    with torch.no_grad():\n",
    "        for data in test_loader:\n",
    "            images, labels = data\n",
    "            # calculate outputs by running images through the network\n",
    "            outputs = net(images)\n",
    "            # the class with the highest energy is what we choose as prediction\n",
    "            _, predicted = torch.max(outputs.data, 1)\n",
    "            total += labels.size(0)\n",
    "            correct += (predicted == labels).sum().item()\n",
    "\n",
    "    print(f'Accuracy of the network on the 10000 test images: {100 * correct // total} %')"
   ]
  },
  {
   "cell_type": "code",
   "execution_count": 5,
   "id": "428abd8c",
   "metadata": {},
   "outputs": [
    {
     "name": "stdout",
     "output_type": "stream",
     "text": [
      "20944\n",
      "cuda:0\n"
     ]
    },
    {
     "name": "stderr",
     "output_type": "stream",
     "text": [
      "  0%|          | 0/15 [00:00<?, ?it/s]/usr/local/lib/python3.8/dist-packages/torchvision/transforms/functional.py:1603: UserWarning: The default value of the antialias parameter of all the resizing transforms (Resize(), RandomResizedCrop(), etc.) will change from None to True in v0.17, in order to be consistent across the PIL and Tensor backends. To suppress this warning, directly pass antialias=True (recommended, future default), antialias=None (current default, which means False for Tensors and True for PIL), or antialias=False (only works on Tensors - PIL will still use antialiasing). This also applies if you are using the inference transforms from the models weights: update the call to weights.transforms(antialias=True).\n",
      "  warnings.warn(\n",
      "Avg. train/valid loss: 0.7067/5.0111:   7%|▋         | 1/15 [02:19<32:33, 139.55s/it]"
     ]
    },
    {
     "name": "stdout",
     "output_type": "stream",
     "text": [
      "Epoch passed successfully\n"
     ]
    },
    {
     "name": "stderr",
     "output_type": "stream",
     "text": [
      "Avg. train/valid loss: 0.4465/1.7311:  13%|█▎        | 2/15 [04:37<30:05, 138.87s/it]"
     ]
    },
    {
     "name": "stdout",
     "output_type": "stream",
     "text": [
      "Epoch passed successfully\n"
     ]
    },
    {
     "name": "stderr",
     "output_type": "stream",
     "text": [
      "Avg. train/valid loss: 0.2695/1.3059:  20%|██        | 3/15 [06:56<27:43, 138.59s/it]"
     ]
    },
    {
     "name": "stdout",
     "output_type": "stream",
     "text": [
      "Epoch passed successfully\n"
     ]
    },
    {
     "name": "stderr",
     "output_type": "stream",
     "text": [
      "Avg. train/valid loss: 0.1864/0.6819:  27%|██▋       | 4/15 [09:14<25:24, 138.56s/it]"
     ]
    },
    {
     "name": "stdout",
     "output_type": "stream",
     "text": [
      "Epoch passed successfully\n"
     ]
    },
    {
     "name": "stderr",
     "output_type": "stream",
     "text": [
      "Avg. train/valid loss: 0.1408/0.5896:  33%|███▎      | 5/15 [11:34<23:10, 139.00s/it]"
     ]
    },
    {
     "name": "stdout",
     "output_type": "stream",
     "text": [
      "Epoch passed successfully\n"
     ]
    },
    {
     "name": "stderr",
     "output_type": "stream",
     "text": [
      "Avg. train/valid loss: 0.1084/0.7548:  40%|████      | 6/15 [14:23<22:23, 149.28s/it]"
     ]
    },
    {
     "name": "stdout",
     "output_type": "stream",
     "text": [
      "Epoch passed successfully\n"
     ]
    },
    {
     "name": "stderr",
     "output_type": "stream",
     "text": [
      "Avg. train/valid loss: 0.0814/0.4692:  47%|████▋     | 7/15 [17:16<20:55, 156.97s/it]"
     ]
    },
    {
     "name": "stdout",
     "output_type": "stream",
     "text": [
      "Epoch passed successfully\n"
     ]
    },
    {
     "name": "stderr",
     "output_type": "stream",
     "text": [
      "Avg. train/valid loss: 0.0643/0.4882:  53%|█████▎    | 8/15 [20:09<18:55, 162.20s/it]"
     ]
    },
    {
     "name": "stdout",
     "output_type": "stream",
     "text": [
      "Epoch passed successfully\n"
     ]
    },
    {
     "name": "stderr",
     "output_type": "stream",
     "text": [
      "Avg. train/valid loss: 0.0482/0.4549:  60%|██████    | 9/15 [22:54<16:17, 162.84s/it]"
     ]
    },
    {
     "name": "stdout",
     "output_type": "stream",
     "text": [
      "Epoch passed successfully\n"
     ]
    },
    {
     "name": "stderr",
     "output_type": "stream",
     "text": [
      "Avg. train/valid loss: 0.0347/0.4213:  67%|██████▋   | 10/15 [25:42<13:42, 164.50s/it]"
     ]
    },
    {
     "name": "stdout",
     "output_type": "stream",
     "text": [
      "Epoch passed successfully\n"
     ]
    },
    {
     "name": "stderr",
     "output_type": "stream",
     "text": [
      "Avg. train/valid loss: 0.0265/0.4118:  73%|███████▎  | 11/15 [28:37<11:10, 167.60s/it]"
     ]
    },
    {
     "name": "stdout",
     "output_type": "stream",
     "text": [
      "Epoch passed successfully\n"
     ]
    },
    {
     "name": "stderr",
     "output_type": "stream",
     "text": [
      "Avg. train/valid loss: 0.0206/0.4256:  80%|████████  | 12/15 [31:36<08:33, 171.17s/it]"
     ]
    },
    {
     "name": "stdout",
     "output_type": "stream",
     "text": [
      "Epoch passed successfully\n"
     ]
    },
    {
     "name": "stderr",
     "output_type": "stream",
     "text": [
      "Avg. train/valid loss: 0.0136/0.4109:  87%|████████▋ | 13/15 [34:46<05:53, 176.81s/it]"
     ]
    },
    {
     "name": "stdout",
     "output_type": "stream",
     "text": [
      "Epoch passed successfully\n"
     ]
    },
    {
     "name": "stderr",
     "output_type": "stream",
     "text": [
      "Avg. train/valid loss: 0.0134/0.3535:  93%|█████████▎| 14/15 [37:46<02:57, 177.87s/it]"
     ]
    },
    {
     "name": "stdout",
     "output_type": "stream",
     "text": [
      "Epoch passed successfully\n"
     ]
    },
    {
     "name": "stderr",
     "output_type": "stream",
     "text": [
      "Avg. train/valid loss: 0.0073/0.4202: 100%|██████████| 15/15 [40:42<00:00, 162.86s/it]"
     ]
    },
    {
     "name": "stdout",
     "output_type": "stream",
     "text": [
      "Epoch passed successfully\n"
     ]
    },
    {
     "name": "stderr",
     "output_type": "stream",
     "text": [
      "\n"
     ]
    },
    {
     "data": {
      "text/plain": [
       "Text(0, 0.5, 'Loss')"
      ]
     },
     "execution_count": 5,
     "metadata": {},
     "output_type": "execute_result"
    },
    {
     "data": {
      "image/png": "[encoded data removed]",
      "text/plain": [
       "<Figure size 1600x1200 with 1 Axes>"
      ]
     },
     "metadata": {},
     "output_type": "display_data"
    }
   ],
   "source": [
    "trans=tv.transforms.Compose([tv.transforms.ToTensor(), tv.transforms.Resize([248, 248])])\n",
    "dataset = SimpsonsDataset(transform=trans)\n",
    "print(len(dataset))\n",
    "\n",
    "device = torch.device('cuda:0' if torch.cuda.is_available() else 'cpu')\n",
    "# Assuming that we are on a CUDA machine, this should print a CUDA device:\n",
    "print(device)\n",
    "\n",
    "train_len = int(len(dataset) * 0.7)\n",
    "valid_len = len(dataset) - train_len\n",
    "#train_set, valid_set = random_split(dataset=dataset, lengths=[17799, 3142])\n",
    "train_set, valid_set = random_split(dataset=dataset, lengths=[train_len, valid_len])\n",
    "#model = tv.models.resnet18()\n",
    "#model.fc = nn.Linear(in_features=512, out_features=43, bias=True)\n",
    "\n",
    "model = tv.models.resnet18()\n",
    "model.fc = nn.Linear(in_features=512, out_features=42, bias=True)\n",
    "model.to(device)\n",
    "\n",
    "\n",
    "train_loader, valid_loader = DataLoader(dataset=train_set, batch_size=3, shuffle=True), DataLoader(dataset=valid_set, batch_size=3, shuffle=True)\n",
    "criterion = nn.CrossEntropyLoss()\n",
    "optimizer = torch.optim.SGD(\n",
    "    params=model.parameters(),\n",
    "    lr=0.01,\n",
    "    momentum=0.9,\n",
    ")\n",
    "\n",
    "epochs = 15\n",
    "train_losses = []\n",
    "valid_losses = []\n",
    "valid_accs = []\n",
    "\n",
    "pbar = tqdm(range(epochs))\n",
    "\n",
    "for _ in pbar:\n",
    "    train_loss = train_step()\n",
    "    valid_loss, valid_acc = valid_step()\n",
    "    \n",
    "    train_losses.append(train_loss)\n",
    "    valid_losses.append(valid_loss)\n",
    "    valid_accs.append(valid_acc)\n",
    "    \n",
    "    pbar.set_description(f'Avg. train/valid loss: {train_loss:.4f}/{valid_loss:.4f}')\n",
    "    print('Epoch passed successfully')\n",
    "\n",
    "fig = plt.figure(figsize=(16, 12))\n",
    "\n",
    "plt.plot(train_losses[1:], label='train')\n",
    "plt.plot(valid_losses[1:], label='valid')\n",
    "plt.legend()\n",
    "plt.xlabel('Iterations')\n",
    "plt.ylabel('Loss')"
   ]
  },
  {
   "cell_type": "code",
   "execution_count": 6,
   "id": "7f0bb57e",
   "metadata": {},
   "outputs": [
    {
     "data": {
      "text/plain": [
       "Text(0, 0.5, 'Accuracy')"
      ]
     },
     "execution_count": 6,
     "metadata": {},
     "output_type": "execute_result"
    },
    {
     "data": {
      "image/png": "[encoded data removed]",
      "text/plain": [
       "<Figure size 1600x1200 with 1 Axes>"
      ]
     },
     "metadata": {},
     "output_type": "display_data"
    }
   ],
   "source": [
    "fig = plt.figure(figsize=(16, 12))\n",
    "\n",
    "plt.plot(valid_accs)\n",
    "plt.xlabel('Iterations')\n",
    "plt.ylabel('Accuracy')"
   ]
  },
  {
   "cell_type": "code",
   "execution_count": 12,
   "id": "3fd90eab",
   "metadata": {},
   "outputs": [
    {
     "name": "stdout",
     "output_type": "stream",
     "text": [
      "0.9113621711730957\n",
      "{0: 'comic_book_guy', 1: 'fat_tony', 2: 'lisa_simpson', 3: 'charles_montgomery_burns', 4: 'nelson_muntz', 5: 'edna_krabappel', 6: 'selma_bouvier', 7: 'martin_prince', 8: 'moe_szyslak', 9: 'kent_brockman', 10: 'apu_nahasapeemapetilon', 11: 'miss_hoover', 12: 'sideshow_bob', 13: 'sideshow_mel', 14: 'lionel_hutz', 15: 'marge_simpson', 16: 'milhouse_van_houten', 17: 'ned_flanders', 18: 'carl_carlson', 19: 'rainier_wolfcastle', 20: 'patty_bouvier', 21: 'waylon_smithers', 22: 'lenny_leonard', 23: 'gil', 24: 'otto_mann', 25: 'chief_wiggum', 26: 'abraham_grampa_simpson', 27: 'cletus_spuckler', 28: 'mayor_quimby', 29: 'homer_simpson', 30: 'principal_skinner', 31: 'ralph_wiggum', 32: 'troy_mcclure', 33: 'snake_jailbird', 34: 'agnes_skinner', 35: 'groundskeeper_willie', 36: 'bart_simpson', 37: 'maggie_simpson', 38: 'krusty_the_clown', 39: 'disco_stu', 40: 'professor_john_frink', 41: 'barney_gumble'}\n"
     ]
    }
   ],
   "source": [
    "print(valid_accs[14])\n",
    "print()\n",
    "\n",
    "path_for_test = '/usr/src/app/kaggle_simpson_testset'\n",
    "testset = os.listdir(path_for_test)\n",
    "val = os.listdir('/usr/src/app/simpsons_dataset_kaggle')\n",
    "key = [i for i in range(len(val))]\n",
    "\n",
    "dic = zip(key, val)\n",
    "dic = dict(dic)\n",
    "print(dic)"
   ]
  },
  {
   "cell_type": "code",
   "execution_count": 13,
   "id": "c5dce41d",
   "metadata": {},
   "outputs": [],
   "source": [
    "name = []\n",
    "correct = 0\n",
    "\n",
    "for i in range(len(testset)):\n",
    "    if i == 438:\n",
    "        continue\n",
    "    name.append(testset[i])\n",
    "    testset[i] = tv.io.read_image(path_for_test + '/' + testset[i])\n",
    "    testset[i].resize_(3, 248, 248)\n",
    "    testset[i] = testset[i].to(torch.float32)\n",
    "    testset[i] = testset[i].to(device) / 255\n",
    "    output = model(testset[i].unsqueeze(0))\n",
    "    classified = dic[output.argmax(dim=1).item()]\n",
    "    \n",
    "    if i > 438:\n",
    "        if name[i - 1].find(classified) != -1:\n",
    "            correct += 1\n",
    "    else:\n",
    "        if name[i].find(classified) != -1:\n",
    "            correct += 1"
   ]
  },
  {
   "cell_type": "code",
   "execution_count": 14,
   "id": "6b48310c",
   "metadata": {},
   "outputs": [
    {
     "data": {
      "text/plain": [
       "10"
      ]
     },
     "execution_count": 14,
     "metadata": {},
     "output_type": "execute_result"
    }
   ],
   "source": [
    "correct"
   ]
  },
  {
   "cell_type": "code",
   "execution_count": 15,
   "id": "dad3a0b7",
   "metadata": {},
   "outputs": [
    {
     "data": {
      "text/plain": [
       "991"
      ]
     },
     "execution_count": 15,
     "metadata": {},
     "output_type": "execute_result"
    }
   ],
   "source": [
    "len(testset)"
   ]
  },
  {
   "cell_type": "code",
   "execution_count": 16,
   "id": "49f47c0f",
   "metadata": {},
   "outputs": [
    {
     "data": {
      "text/plain": [
       "1.0090817356205852"
      ]
     },
     "execution_count": 16,
     "metadata": {},
     "output_type": "execute_result"
    }
   ],
   "source": [
    "(correct / len(testset)) * 100"
   ]
  },
  {
   "cell_type": "code",
   "execution_count": null,
   "id": "b4926846",
   "metadata": {},
   "outputs": [],
   "source": []
  },
  {
   "cell_type": "code",
   "execution_count": null,
   "id": "0de01aca",
   "metadata": {},
   "outputs": [],
   "source": []
  }
 ],
 "metadata": {
  "kernelspec": {
   "display_name": "Python 3 (ipykernel)",
   "language": "python",
   "name": "python3"
  },
  "language_info": {
   "codemirror_mode": {
    "name": "ipython",
    "version": 3
   },
   "file_extension": ".py",
   "mimetype": "text/x-python",
   "name": "python",
   "nbconvert_exporter": "python",
   "pygments_lexer": "ipython3",
   "version": "3.8.10"
  }
 },
 "nbformat": 4,
 "nbformat_minor": 5
}
