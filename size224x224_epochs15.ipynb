{
 "cells": [
  {
   "cell_type": "code",
   "execution_count": 1,
   "id": "75e854a3",
   "metadata": {},
   "outputs": [
    {
     "name": "stdout",
     "output_type": "stream",
     "text": [
      "Mon Apr 17 12:53:53 2023       \n",
      "+-----------------------------------------------------------------------------+\n",
      "| NVIDIA-SMI 515.65.01    Driver Version: 515.65.01    CUDA Version: 11.8     |\n",
      "|-------------------------------+----------------------+----------------------+\n",
      "| GPU  Name        Persistence-M| Bus-Id        Disp.A | Volatile Uncorr. ECC |\n",
      "| Fan  Temp  Perf  Pwr:Usage/Cap|         Memory-Usage | GPU-Util  Compute M. |\n",
      "|                               |                      |               MIG M. |\n",
      "|===============================+======================+======================|\n",
      "|   0  Tesla V100-SXM2...  Off  | 00000000:15:00.0 Off |                    0 |\n",
      "| N/A   30C    P0    54W / 300W |      0MiB / 32768MiB |      2%      Default |\n",
      "|                               |                      |                  N/A |\n",
      "+-------------------------------+----------------------+----------------------+\n",
      "                                                                               \n",
      "+-----------------------------------------------------------------------------+\n",
      "| Processes:                                                                  |\n",
      "|  GPU   GI   CI        PID   Type   Process name                  GPU Memory |\n",
      "|        ID   ID                                                   Usage      |\n",
      "|=============================================================================|\n",
      "|  No running processes found                                                 |\n",
      "+-----------------------------------------------------------------------------+\n"
     ]
    }
   ],
   "source": [
    "!nvidia-smi"
   ]
  },
  {
   "cell_type": "code",
   "execution_count": 2,
   "id": "a03deabc",
   "metadata": {},
   "outputs": [],
   "source": [
    "import torch\n",
    "import numpy as np\n",
    "from torch.utils.data import random_split\n",
    "import torch.nn as nn\n",
    "import torch.nn.functional as F\n",
    "from torch.utils.data import Dataset\n",
    "import torchvision as tv\n",
    "from torch.utils.data.dataloader import DataLoader\n",
    "from torchvision import models as models\n",
    "from tqdm import tqdm\n",
    "import matplotlib.pyplot as plt\n",
    "import os"
   ]
  },
  {
   "cell_type": "code",
   "execution_count": 3,
   "id": "2918eacd",
   "metadata": {},
   "outputs": [],
   "source": [
    "class SimpsonsDataset(Dataset):\n",
    "    def __init__(self, transform=None) -> None:\n",
    "        super().__init__()\n",
    "\n",
    "        self.dataset = tv.datasets.ImageFolder('/usr/src/app/simpsons_dataset_kaggle', transform=transform)\n",
    "        \n",
    "    def __getitem__(self, index):\n",
    "        return self.dataset[index]\n",
    "        \n",
    "    def __len__(self):\n",
    "        return len(self.dataset)"
   ]
  },
  {
   "cell_type": "code",
   "execution_count": 4,
   "id": "834417fb",
   "metadata": {},
   "outputs": [],
   "source": [
    "def train_step():\n",
    "    model.train()\n",
    "    \n",
    "    running_loss = 0.\n",
    "    for images, labels in train_loader:\n",
    "        #Переводим изображения и лейблы на GPU\n",
    "        images = images.to(device)\n",
    "        labels = labels.to(device)\n",
    "        \n",
    "        # Удаляем накопленные ранее градиенты.\n",
    "        # parameter.grad = 0\n",
    "        optimizer.zero_grad()\n",
    "        \n",
    "        # Делаем проход (forward pass).\n",
    "        # Состояние модели `train` обеспечивает сохранение промежуточных результатов вычислений.\n",
    "        # Эти сохраненные значения будут использованы ниже для вычисления градиента функции потерь.\n",
    "        output = model(images)\n",
    "        \n",
    "        # Вычисляем функцию потерь на основе предсказания модели.\n",
    "        loss = criterion(output, labels)\n",
    "\n",
    "        # Вычисляем градиент: направление, в котором функция потерь возрастает максимально быстро.\n",
    "        # parameter.grad += dloss / dparameter\n",
    "        loss.backward()\n",
    "\n",
    "        # parameter += -lr * parameter.grad\n",
    "        # \n",
    "        # PyTorch SGD:\n",
    "        # velocity = momentum * velocity + parameter.grad\n",
    "        # parameter += - lr * velocity\n",
    "        optimizer.step()\n",
    "        \n",
    "        # Накапливаем статистику.\n",
    "        running_loss += loss\n",
    "    \n",
    "    with torch.no_grad():\n",
    "        train_loss = running_loss / len(dataset)\n",
    "    return train_loss.item()\n",
    "\n",
    "def valid_step():\n",
    "    model.eval()\n",
    "\n",
    "    correct_total = 0.\n",
    "    running_loss = 0.\n",
    "    with torch.no_grad():\n",
    "        for images, labels in valid_loader:\n",
    "            images = images.to(device)\n",
    "            labels = labels.to(device)\n",
    "            \n",
    "            output = model(images)\n",
    "            \n",
    "            prediction = output.argmax(dim=1)\n",
    "            correct_total += prediction.eq(labels.view_as(prediction)).sum()\n",
    "            \n",
    "            loss = criterion(output, labels)\n",
    "            running_loss += loss\n",
    "        \n",
    "    valid_loss = running_loss / len(valid_loader)\n",
    "    accuracy = correct_total / len(valid_loader.dataset)\n",
    "    return valid_loss.item(), accuracy.item()\n",
    "\n",
    "def test_step():\n",
    "    correct = 0\n",
    "    total = 0\n",
    "    # since we're not training, we don't need to calculate the gradients for our outputs\n",
    "    with torch.no_grad():\n",
    "        for data in test_loader:\n",
    "            images, labels = data\n",
    "            # calculate outputs by running images through the network\n",
    "            outputs = net(images)\n",
    "            # the class with the highest energy is what we choose as prediction\n",
    "            _, predicted = torch.max(outputs.data, 1)\n",
    "            total += labels.size(0)\n",
    "            correct += (predicted == labels).sum().item()\n",
    "\n",
    "    print(f'Accuracy of the network on the 10000 test images: {100 * correct // total} %')"
   ]
  },
  {
   "cell_type": "code",
   "execution_count": 5,
   "id": "d922ea4f",
   "metadata": {},
   "outputs": [
    {
     "name": "stdout",
     "output_type": "stream",
     "text": [
      "cuda:0\n"
     ]
    },
    {
     "name": "stderr",
     "output_type": "stream",
     "text": [
      "  0%|          | 0/15 [00:00<?, ?it/s]/usr/local/lib/python3.8/dist-packages/torchvision/transforms/functional.py:1603: UserWarning: The default value of the antialias parameter of all the resizing transforms (Resize(), RandomResizedCrop(), etc.) will change from None to True in v0.17, in order to be consistent across the PIL and Tensor backends. To suppress this warning, directly pass antialias=True (recommended, future default), antialias=None (current default, which means False for Tensors and True for PIL), or antialias=False (only works on Tensors - PIL will still use antialiasing). This also applies if you are using the inference transforms from the models weights: update the call to weights.transforms(antialias=True).\n",
      "  warnings.warn(\n",
      "Avg. train/valid loss: 0.7823/2.2821:   7%|▋         | 1/15 [02:18<32:15, 138.25s/it]"
     ]
    },
    {
     "name": "stdout",
     "output_type": "stream",
     "text": [
      "Epoch passed successfully\n"
     ]
    },
    {
     "name": "stderr",
     "output_type": "stream",
     "text": [
      "Avg. train/valid loss: 0.4409/1.3439:  13%|█▎        | 2/15 [04:28<28:52, 133.27s/it]"
     ]
    },
    {
     "name": "stdout",
     "output_type": "stream",
     "text": [
      "Epoch passed successfully\n"
     ]
    },
    {
     "name": "stderr",
     "output_type": "stream",
     "text": [
      "Avg. train/valid loss: 0.2655/0.9326:  20%|██        | 3/15 [06:34<26:03, 130.30s/it]"
     ]
    },
    {
     "name": "stdout",
     "output_type": "stream",
     "text": [
      "Epoch passed successfully\n"
     ]
    },
    {
     "name": "stderr",
     "output_type": "stream",
     "text": [
      "Avg. train/valid loss: 0.1834/0.7060:  27%|██▋       | 4/15 [08:42<23:42, 129.31s/it]"
     ]
    },
    {
     "name": "stdout",
     "output_type": "stream",
     "text": [
      "Epoch passed successfully\n"
     ]
    },
    {
     "name": "stderr",
     "output_type": "stream",
     "text": [
      "Avg. train/valid loss: 0.1326/0.6873:  33%|███▎      | 5/15 [10:48<21:21, 128.12s/it]"
     ]
    },
    {
     "name": "stdout",
     "output_type": "stream",
     "text": [
      "Epoch passed successfully\n"
     ]
    },
    {
     "name": "stderr",
     "output_type": "stream",
     "text": [
      "Avg. train/valid loss: 0.0962/0.6953:  40%|████      | 6/15 [12:56<19:12, 128.04s/it]"
     ]
    },
    {
     "name": "stdout",
     "output_type": "stream",
     "text": [
      "Epoch passed successfully\n"
     ]
    },
    {
     "name": "stderr",
     "output_type": "stream",
     "text": [
      "Avg. train/valid loss: 0.0736/0.4552:  47%|████▋     | 7/15 [15:01<16:55, 126.94s/it]"
     ]
    },
    {
     "name": "stdout",
     "output_type": "stream",
     "text": [
      "Epoch passed successfully\n"
     ]
    },
    {
     "name": "stderr",
     "output_type": "stream",
     "text": [
      "Avg. train/valid loss: 0.0531/0.4524:  53%|█████▎    | 8/15 [17:04<14:41, 125.89s/it]"
     ]
    },
    {
     "name": "stdout",
     "output_type": "stream",
     "text": [
      "Epoch passed successfully\n"
     ]
    },
    {
     "name": "stderr",
     "output_type": "stream",
     "text": [
      "Avg. train/valid loss: 0.0369/0.5801:  60%|██████    | 9/15 [19:08<12:31, 125.32s/it]"
     ]
    },
    {
     "name": "stdout",
     "output_type": "stream",
     "text": [
      "Epoch passed successfully\n"
     ]
    },
    {
     "name": "stderr",
     "output_type": "stream",
     "text": [
      "Avg. train/valid loss: 0.0258/0.3752:  67%|██████▋   | 10/15 [21:14<10:27, 125.44s/it]"
     ]
    },
    {
     "name": "stdout",
     "output_type": "stream",
     "text": [
      "Epoch passed successfully\n"
     ]
    },
    {
     "name": "stderr",
     "output_type": "stream",
     "text": [
      "Avg. train/valid loss: 0.0185/0.3733:  73%|███████▎  | 11/15 [23:20<08:22, 125.66s/it]"
     ]
    },
    {
     "name": "stdout",
     "output_type": "stream",
     "text": [
      "Epoch passed successfully\n"
     ]
    },
    {
     "name": "stderr",
     "output_type": "stream",
     "text": [
      "Avg. train/valid loss: 0.0119/0.3645:  80%|████████  | 12/15 [25:25<06:16, 125.51s/it]"
     ]
    },
    {
     "name": "stdout",
     "output_type": "stream",
     "text": [
      "Epoch passed successfully\n"
     ]
    },
    {
     "name": "stderr",
     "output_type": "stream",
     "text": [
      "Avg. train/valid loss: 0.0128/0.4008:  87%|████████▋ | 13/15 [27:32<04:11, 125.82s/it]"
     ]
    },
    {
     "name": "stdout",
     "output_type": "stream",
     "text": [
      "Epoch passed successfully\n"
     ]
    },
    {
     "name": "stderr",
     "output_type": "stream",
     "text": [
      "Avg. train/valid loss: 0.0088/0.3562:  93%|█████████▎| 14/15 [29:40<02:06, 126.46s/it]"
     ]
    },
    {
     "name": "stdout",
     "output_type": "stream",
     "text": [
      "Epoch passed successfully\n"
     ]
    },
    {
     "name": "stderr",
     "output_type": "stream",
     "text": [
      "Avg. train/valid loss: 0.0064/0.3841: 100%|██████████| 15/15 [31:47<00:00, 127.14s/it]"
     ]
    },
    {
     "name": "stdout",
     "output_type": "stream",
     "text": [
      "Epoch passed successfully\n"
     ]
    },
    {
     "name": "stderr",
     "output_type": "stream",
     "text": [
      "\n"
     ]
    },
    {
     "data": {
      "text/plain": [
       "Text(0, 0.5, 'Loss')"
      ]
     },
     "execution_count": 5,
     "metadata": {},
     "output_type": "execute_result"
    },
    {
     "data": {
      "image/png": "[encoded data removed]",
      "text/plain": [
       "<Figure size 1600x1200 with 1 Axes>"
      ]
     },
     "metadata": {},
     "output_type": "display_data"
    }
   ],
   "source": [
    "trans=tv.transforms.Compose([tv.transforms.ToTensor(), tv.transforms.Resize([224, 224])])\n",
    "dataset = SimpsonsDataset(transform=trans)\n",
    "\n",
    "device = torch.device('cuda:0' if torch.cuda.is_available() else 'cpu')\n",
    "# Assuming that we are on a CUDA machine, this should print a CUDA device:\n",
    "print(device)\n",
    "\n",
    "train_set, valid_set = random_split(dataset=dataset, lengths=[17799, 3142])\n",
    "\n",
    "#model = tv.models.resnet18()\n",
    "#model.fc = nn.Linear(in_features=512, out_features=43, bias=True)\n",
    "\n",
    "model = tv.models.resnet18()\n",
    "model.fc = nn.Linear(in_features=512, out_features=43, bias=True)\n",
    "model.to(device)\n",
    "\n",
    "\n",
    "train_loader, valid_loader = DataLoader(dataset=train_set, batch_size=3, shuffle=True), DataLoader(dataset=valid_set, batch_size=3, shuffle=True)\n",
    "criterion = nn.CrossEntropyLoss()\n",
    "optimizer = torch.optim.SGD(\n",
    "    params=model.parameters(),\n",
    "    lr=0.01,\n",
    "    momentum=0.9,\n",
    ")\n",
    "\n",
    "epochs = 15\n",
    "train_losses = []\n",
    "valid_losses = []\n",
    "valid_accs = []\n",
    "\n",
    "pbar = tqdm(range(epochs))\n",
    "\n",
    "for _ in pbar:\n",
    "    train_loss = train_step()\n",
    "    valid_loss, valid_acc = valid_step()\n",
    "    \n",
    "    train_losses.append(train_loss)\n",
    "    valid_losses.append(valid_loss)\n",
    "    valid_accs.append(valid_acc)\n",
    "    \n",
    "    pbar.set_description(f'Avg. train/valid loss: {train_loss:.4f}/{valid_loss:.4f}')\n",
    "    print('Epoch passed successfully')\n",
    "\n",
    "fig = plt.figure(figsize=(16, 12))\n",
    "\n",
    "plt.plot(train_losses[1:], label='train')\n",
    "plt.plot(valid_losses[1:], label='valid')\n",
    "plt.legend()\n",
    "plt.xlabel('Iterations')\n",
    "plt.ylabel('Loss')"
   ]
  },
  {
   "cell_type": "code",
   "execution_count": 6,
   "id": "de100bfc",
   "metadata": {},
   "outputs": [
    {
     "data": {
      "text/plain": [
       "Text(0, 0.5, 'Accuracy')"
      ]
     },
     "execution_count": 6,
     "metadata": {},
     "output_type": "execute_result"
    },
    {
     "data": {
      "image/png": "[encoded data removed]",
      "text/plain": [
       "<Figure size 1600x1200 with 1 Axes>"
      ]
     },
     "metadata": {},
     "output_type": "display_data"
    }
   ],
   "source": [
    "fig = plt.figure(figsize=(16, 12))\n",
    "\n",
    "plt.plot(valid_accs)\n",
    "plt.xlabel('Iterations')\n",
    "plt.ylabel('Accuracy')"
   ]
  },
  {
   "cell_type": "code",
   "execution_count": 76,
   "id": "9a60d56d",
   "metadata": {},
   "outputs": [
    {
     "name": "stdout",
     "output_type": "stream",
     "text": [
      "0.9121578335762024\n",
      "{0: 'comic_book_guy', 1: 'fat_tony', 2: 'lisa_simpson', 3: 'charles_montgomery_burns', 4: 'nelson_muntz', 5: 'edna_krabappel', 6: 'selma_bouvier', 7: 'martin_prince', 8: 'moe_szyslak', 9: 'kent_brockman', 10: 'apu_nahasapeemapetilon', 11: 'miss_hoover', 12: 'sideshow_bob', 13: 'sideshow_mel', 14: 'lionel_hutz', 15: 'marge_simpson', 16: 'milhouse_van_houten', 17: 'ned_flanders', 18: 'carl_carlson', 19: 'rainier_wolfcastle', 20: 'patty_bouvier', 21: 'waylon_smithers', 22: 'lenny_leonard', 23: 'gil', 24: 'otto_mann', 25: 'chief_wiggum', 26: 'abraham_grampa_simpson', 27: 'cletus_spuckler', 28: 'mayor_quimby', 29: 'homer_simpson', 30: 'principal_skinner', 31: 'ralph_wiggum', 32: 'troy_mcclure', 33: 'snake_jailbird', 34: 'agnes_skinner', 35: 'groundskeeper_willie', 36: 'bart_simpson', 37: 'maggie_simpson', 38: 'krusty_the_clown', 39: 'disco_stu', 40: 'professor_john_frink', 41: 'barney_gumble'}\n"
     ]
    }
   ],
   "source": [
    "print(valid_accs[9])\n",
    "\n",
    "path_for_test = '/usr/src/app/kaggle_simpson_testset'\n",
    "testset = os.listdir(path_for_test)\n",
    "val = os.listdir('/usr/src/app/simpsons_dataset_kaggle')\n",
    "key = [i for i in range(len(val))]\n",
    "\n",
    "dic = zip(key, val)\n",
    "dic = dict(dic)\n",
    "print(dic)"
   ]
  },
  {
   "cell_type": "code",
   "execution_count": 77,
   "id": "9974145d",
   "metadata": {},
   "outputs": [],
   "source": [
    "name = []\n",
    "correct = 0\n",
    "\n",
    "for i in range(len(testset)):\n",
    "    name.append(testset[i])\n",
    "    testset[i] = tv.io.read_image(path_for_test + '/' + testset[i])\n",
    "    testset[i].resize_(3, 224, 224)\n",
    "    testset[i] = testset[0].to(torch.float32)\n",
    "    testset[i] = testset[0].to(device)\n",
    "    output = model(testset[i].unsqueeze(0))\n",
    "    classified = dic[output.argmax(dim=1).item()]\n",
    "    \n",
    "    if name[i].find(classified) != -1:\n",
    "        correct += 1"
   ]
  },
  {
   "cell_type": "code",
   "execution_count": 78,
   "id": "25167b3d",
   "metadata": {},
   "outputs": [
    {
     "data": {
      "text/plain": [
       "50"
      ]
     },
     "execution_count": 78,
     "metadata": {},
     "output_type": "execute_result"
    }
   ],
   "source": [
    "correct"
   ]
  },
  {
   "cell_type": "code",
   "execution_count": 79,
   "id": "cf11bea8",
   "metadata": {},
   "outputs": [
    {
     "data": {
      "text/plain": [
       "990"
      ]
     },
     "execution_count": 79,
     "metadata": {},
     "output_type": "execute_result"
    }
   ],
   "source": [
    "len(testset)"
   ]
  },
  {
   "cell_type": "code",
   "execution_count": 80,
   "id": "599b478d",
   "metadata": {},
   "outputs": [
    {
     "data": {
      "text/plain": [
       "5.05050505050505"
      ]
     },
     "execution_count": 80,
     "metadata": {},
     "output_type": "execute_result"
    }
   ],
   "source": [
    "(correct / len(testset)) * 100"
   ]
  },
  {
   "cell_type": "code",
   "execution_count": null,
   "id": "3f01ff68",
   "metadata": {},
   "outputs": [],
   "source": []
  }
 ],
 "metadata": {
  "kernelspec": {
   "display_name": "Python 3 (ipykernel)",
   "language": "python",
   "name": "python3"
  },
  "language_info": {
   "codemirror_mode": {
    "name": "ipython",
    "version": 3
   },
   "file_extension": ".py",
   "mimetype": "text/x-python",
   "name": "python",
   "nbconvert_exporter": "python",
   "pygments_lexer": "ipython3",
   "version": "3.8.10"
  }
 },
 "nbformat": 4,
 "nbformat_minor": 5
}
