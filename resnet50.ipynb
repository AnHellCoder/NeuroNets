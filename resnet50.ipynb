{
 "cells": [
  {
   "cell_type": "code",
   "execution_count": 1,
   "id": "0d9fabc8",
   "metadata": {},
   "outputs": [
    {
     "name": "stdout",
     "output_type": "stream",
     "text": [
      "Mon Apr 24 15:09:24 2023       \n",
      "+-----------------------------------------------------------------------------+\n",
      "| NVIDIA-SMI 515.65.01    Driver Version: 515.65.01    CUDA Version: 11.8     |\n",
      "|-------------------------------+----------------------+----------------------+\n",
      "| GPU  Name        Persistence-M| Bus-Id        Disp.A | Volatile Uncorr. ECC |\n",
      "| Fan  Temp  Perf  Pwr:Usage/Cap|         Memory-Usage | GPU-Util  Compute M. |\n",
      "|                               |                      |               MIG M. |\n",
      "|===============================+======================+======================|\n",
      "|   0  Tesla V100-SXM2...  Off  | 00000000:15:00.0 Off |                    0 |\n",
      "| N/A   27C    P0    54W / 300W |      0MiB / 32768MiB |      2%      Default |\n",
      "|                               |                      |                  N/A |\n",
      "+-------------------------------+----------------------+----------------------+\n",
      "                                                                               \n",
      "+-----------------------------------------------------------------------------+\n",
      "| Processes:                                                                  |\n",
      "|  GPU   GI   CI        PID   Type   Process name                  GPU Memory |\n",
      "|        ID   ID                                                   Usage      |\n",
      "|=============================================================================|\n",
      "|  No running processes found                                                 |\n",
      "+-----------------------------------------------------------------------------+\n"
     ]
    }
   ],
   "source": [
    "!nvidia-smi"
   ]
  },
  {
   "cell_type": "code",
   "execution_count": 2,
   "id": "0261bb52",
   "metadata": {},
   "outputs": [],
   "source": [
    "import torch\n",
    "import numpy as np\n",
    "from torch.utils.data import random_split\n",
    "import torch.nn as nn\n",
    "import torch.nn.functional as F\n",
    "from torch.utils.data import Dataset\n",
    "import torchvision as tv\n",
    "from torch.utils.data.dataloader import DataLoader\n",
    "from torchvision import models as models\n",
    "from tqdm import tqdm\n",
    "import matplotlib.pyplot as plt\n",
    "import os"
   ]
  },
  {
   "cell_type": "code",
   "execution_count": 3,
   "id": "5bccfa21",
   "metadata": {},
   "outputs": [],
   "source": [
    "class SimpsonsDataset(Dataset):\n",
    "    def __init__(self, transform=None) -> None:\n",
    "        super().__init__()\n",
    "\n",
    "        self.dataset = tv.datasets.ImageFolder('/usr/src/app/simpsons_dataset_kaggle', transform=transform)\n",
    "        \n",
    "    def __getitem__(self, index):\n",
    "        return self.dataset[index]\n",
    "        \n",
    "    def __len__(self):\n",
    "        return len(self.dataset)"
   ]
  },
  {
   "cell_type": "code",
   "execution_count": 4,
   "id": "174d499b",
   "metadata": {},
   "outputs": [],
   "source": [
    "def train_step():\n",
    "    model.train()\n",
    "    \n",
    "    running_loss = 0.\n",
    "    i = 0\n",
    "    for images, labels in train_loader:\n",
    "        #Переводим изображения и лейблы на GPU\n",
    "        images = images.to(device)\n",
    "        labels = labels.to(device)\n",
    "        \n",
    "        # Удаляем накопленные ранее градиенты.\n",
    "        # parameter.grad = 0\n",
    "        optimizer.zero_grad()\n",
    "        \n",
    "        # Делаем проход (forward pass).\n",
    "        # Состояние модели `train` обеспечивает сохранение промежуточных результатов вычислений.\n",
    "        # Эти сохраненные значения будут использованы ниже для вычисления градиента функции потерь.\n",
    "        output = model(images)\n",
    "        \n",
    "        # Вычисляем функцию потерь на основе предсказания модели.\n",
    "        loss = criterion(output, labels)\n",
    "\n",
    "        # Вычисляем градиент: направление, в котором функция потерь возрастает максимально быстро.\n",
    "        # parameter.grad += dloss / dparameter\n",
    "        loss.backward()\n",
    "\n",
    "        # parameter += -lr * parameter.grad\n",
    "        # \n",
    "        # PyTorch SGD:\n",
    "        # velocity = momentum * velocity + parameter.grad\n",
    "        # parameter += - lr * velocity\n",
    "        optimizer.step()\n",
    "        \n",
    "        # Накапливаем статистику.\n",
    "        running_loss += loss\n",
    "        if i == 40:\n",
    "            break\n",
    "    \n",
    "    with torch.no_grad():\n",
    "        train_loss = running_loss / len(dataset)\n",
    "    return train_loss.item()\n",
    "\n",
    "def valid_step():\n",
    "    model.eval()\n",
    "\n",
    "    correct_total = 0.\n",
    "    running_loss = 0.\n",
    "    k = 0\n",
    "    with torch.no_grad():\n",
    "        for images, labels in valid_loader:\n",
    "            images = images.to(device)\n",
    "            labels = labels.to(device)\n",
    "            \n",
    "            output = model(images)\n",
    "            \n",
    "            prediction = output.argmax(dim=1)\n",
    "            correct_total += prediction.eq(labels.view_as(prediction)).sum()\n",
    "            \n",
    "            loss = criterion(output, labels)\n",
    "            running_loss += loss\n",
    "        \n",
    "    valid_loss = running_loss / len(valid_loader)\n",
    "    accuracy = correct_total / len(valid_loader.dataset)\n",
    "    return valid_loss.item(), accuracy.item()\n",
    "\n",
    "def save_model():\n",
    "    torch.save(model, 'best_accuracy_point')\n",
    "\n",
    "def load_model():\n",
    "    return torch.load('best_accuracy_point')"
   ]
  },
  {
   "cell_type": "code",
   "execution_count": 5,
   "id": "2df4ae80",
   "metadata": {},
   "outputs": [
    {
     "name": "stdout",
     "output_type": "stream",
     "text": [
      "20944\n",
      "cuda:0\n"
     ]
    },
    {
     "name": "stderr",
     "output_type": "stream",
     "text": [
      "Avg. train/valid loss: 0.7672/4.1063:   7%|▋         | 1/15 [02:22<33:18, 142.73s/it]"
     ]
    },
    {
     "name": "stdout",
     "output_type": "stream",
     "text": [
      "Epoch passed successfully\n"
     ]
    },
    {
     "name": "stderr",
     "output_type": "stream",
     "text": [
      "Avg. train/valid loss: 0.6554/2.6900:  13%|█▎        | 2/15 [04:34<29:32, 136.37s/it]"
     ]
    },
    {
     "name": "stdout",
     "output_type": "stream",
     "text": [
      "Epoch passed successfully\n"
     ]
    },
    {
     "name": "stderr",
     "output_type": "stream",
     "text": [
      "Avg. train/valid loss: 0.5273/2.1621:  20%|██        | 3/15 [06:45<26:43, 133.67s/it]"
     ]
    },
    {
     "name": "stdout",
     "output_type": "stream",
     "text": [
      "Epoch passed successfully\n"
     ]
    },
    {
     "name": "stderr",
     "output_type": "stream",
     "text": [
      "Avg. train/valid loss: 0.4236/2.1003:  27%|██▋       | 4/15 [08:55<24:15, 132.36s/it]"
     ]
    },
    {
     "name": "stdout",
     "output_type": "stream",
     "text": [
      "Epoch passed successfully\n"
     ]
    },
    {
     "name": "stderr",
     "output_type": "stream",
     "text": [
      "Avg. train/valid loss: 0.3517/1.6668:  33%|███▎      | 5/15 [11:06<21:59, 131.92s/it]"
     ]
    },
    {
     "name": "stdout",
     "output_type": "stream",
     "text": [
      "Epoch passed successfully\n"
     ]
    },
    {
     "name": "stderr",
     "output_type": "stream",
     "text": [
      "Avg. train/valid loss: 0.3033/1.2716:  40%|████      | 6/15 [13:17<19:44, 131.60s/it]"
     ]
    },
    {
     "name": "stdout",
     "output_type": "stream",
     "text": [
      "Epoch passed successfully\n"
     ]
    },
    {
     "name": "stderr",
     "output_type": "stream",
     "text": [
      "Avg. train/valid loss: 0.2594/1.3027:  47%|████▋     | 7/15 [15:28<17:31, 131.48s/it]"
     ]
    },
    {
     "name": "stdout",
     "output_type": "stream",
     "text": [
      "Epoch passed successfully\n"
     ]
    },
    {
     "name": "stderr",
     "output_type": "stream",
     "text": [
      "Avg. train/valid loss: 0.2264/1.1341:  53%|█████▎    | 8/15 [17:42<15:24, 132.14s/it]"
     ]
    },
    {
     "name": "stdout",
     "output_type": "stream",
     "text": [
      "Epoch passed successfully\n"
     ]
    },
    {
     "name": "stderr",
     "output_type": "stream",
     "text": [
      "Avg. train/valid loss: 0.2009/1.0169:  60%|██████    | 9/15 [19:52<13:08, 131.43s/it]"
     ]
    },
    {
     "name": "stdout",
     "output_type": "stream",
     "text": [
      "Epoch passed successfully\n"
     ]
    },
    {
     "name": "stderr",
     "output_type": "stream",
     "text": [
      "Avg. train/valid loss: 0.1748/0.8704:  67%|██████▋   | 10/15 [22:02<10:55, 131.17s/it]"
     ]
    },
    {
     "name": "stdout",
     "output_type": "stream",
     "text": [
      "Epoch passed successfully\n"
     ]
    },
    {
     "name": "stderr",
     "output_type": "stream",
     "text": [
      "Avg. train/valid loss: 0.1572/0.7865:  73%|███████▎  | 11/15 [24:12<08:43, 130.77s/it]"
     ]
    },
    {
     "name": "stdout",
     "output_type": "stream",
     "text": [
      "Epoch passed successfully\n"
     ]
    },
    {
     "name": "stderr",
     "output_type": "stream",
     "text": [
      "Avg. train/valid loss: 0.1371/0.9798:  80%|████████  | 12/15 [26:25<06:34, 131.40s/it]"
     ]
    },
    {
     "name": "stdout",
     "output_type": "stream",
     "text": [
      "Epoch passed successfully\n"
     ]
    },
    {
     "name": "stderr",
     "output_type": "stream",
     "text": [
      "Avg. train/valid loss: 0.1203/0.8283:  87%|████████▋ | 13/15 [28:37<04:23, 131.53s/it]"
     ]
    },
    {
     "name": "stdout",
     "output_type": "stream",
     "text": [
      "Epoch passed successfully\n"
     ]
    },
    {
     "name": "stderr",
     "output_type": "stream",
     "text": [
      "Avg. train/valid loss: 0.1092/0.7745:  93%|█████████▎| 14/15 [30:50<02:12, 132.10s/it]"
     ]
    },
    {
     "name": "stdout",
     "output_type": "stream",
     "text": [
      "Epoch passed successfully\n"
     ]
    },
    {
     "name": "stderr",
     "output_type": "stream",
     "text": [
      "Avg. train/valid loss: 0.1004/0.6636: 100%|██████████| 15/15 [33:05<00:00, 132.38s/it]"
     ]
    },
    {
     "name": "stdout",
     "output_type": "stream",
     "text": [
      "Epoch passed successfully\n"
     ]
    },
    {
     "name": "stderr",
     "output_type": "stream",
     "text": [
      "\n"
     ]
    },
    {
     "data": {
      "text/plain": [
       "Text(0, 0.5, 'Loss')"
      ]
     },
     "execution_count": 5,
     "metadata": {},
     "output_type": "execute_result"
    },
    {
     "data": {
      "image/png": "[encoded data removed]",
      "text/plain": [
       "<Figure size 1600x1200 with 1 Axes>"
      ]
     },
     "metadata": {},
     "output_type": "display_data"
    }
   ],
   "source": [
    "trans=tv.transforms.Compose([tv.transforms.Resize([156,156]),\n",
    "                             tv.transforms.ToTensor(),\n",
    "                             tv.transforms.Normalize(mean=[0, 0, 0], std=[255, 255, 255])])\n",
    "\n",
    "dataset = SimpsonsDataset(transform=trans)\n",
    "print(len(dataset))\n",
    "\n",
    "device = torch.device('cuda:0' if torch.cuda.is_available() else 'cpu')\n",
    "# Assuming that we are on a CUDA machine, this should print a CUDA device:\n",
    "print(device)\n",
    "\n",
    "train_len = int(len(dataset) * 0.7)\n",
    "valid_len = len(dataset) - train_len\n",
    "#train_set, valid_set = random_split(dataset=dataset, lengths=[17799, 3142])\n",
    "train_set, valid_set = random_split(dataset=dataset, lengths=[train_len, valid_len])\n",
    "#model = tv.models.resnet18()\n",
    "#model.fc = nn.Linear(in_features=512, out_features=43, bias=True)\n",
    "\n",
    "model = tv.models.resnet50()\n",
    "model.fc = nn.Linear(in_features=2048, out_features=42, bias=True)\n",
    "model.to(device)\n",
    "\n",
    "train_loader, valid_loader = DataLoader(dataset=train_set, batch_size=3, shuffle=True), DataLoader(dataset=valid_set, batch_size=3, shuffle=True)\n",
    "criterion = nn.CrossEntropyLoss()\n",
    "optimizer = torch.optim.SGD(\n",
    "    params=model.parameters(),\n",
    "    lr=0.001,\n",
    "    momentum=0.5\n",
    ")\n",
    "\n",
    "epochs = 15\n",
    "train_losses = []\n",
    "valid_losses = []\n",
    "valid_accs = [0]\n",
    "\n",
    "pbar = tqdm(range(epochs))\n",
    "\n",
    "for _ in pbar:\n",
    "    \n",
    "    train_loss = train_step()\n",
    "    valid_loss, valid_acc = valid_step()\n",
    "    \n",
    "    train_losses.append(train_loss)\n",
    "    valid_losses.append(valid_loss)\n",
    "    valid_accs.append(valid_acc)\n",
    "    \n",
    "    if valid_accs[_ + 1] > valid_accs[_]:\n",
    "        save_model()\n",
    "    \n",
    "    pbar.set_description(f'Avg. train/valid loss: {train_loss:.4f}/{valid_loss:.4f}')\n",
    "    print('Epoch passed successfully')\n",
    "\n",
    "fig = plt.figure(figsize=(16, 12))\n",
    "\n",
    "plt.plot(train_losses[1:], label='train')\n",
    "plt.plot(valid_losses[1:], label='valid')\n",
    "plt.legend()\n",
    "plt.xlabel('Iterations')\n",
    "plt.ylabel('Loss')"
   ]
  },
  {
   "cell_type": "code",
   "execution_count": 9,
   "id": "0aace340",
   "metadata": {},
   "outputs": [
    {
     "name": "stdout",
     "output_type": "stream",
     "text": [
      "0.85089111328125\n",
      "{0: 'abraham_grampa_simpson', 1: 'agnes_skinner', 2: 'apu_nahasapeemapetilon', 3: 'barney_gumble', 4: 'bart_simpson', 5: 'carl_carlson', 6: 'charles_montgomery_burns', 7: 'chief_wiggum', 8: 'cletus_spuckler', 9: 'comic_book_guy', 10: 'disco_stu', 11: 'edna_krabappel', 12: 'fat_tony', 13: 'gil', 14: 'groundskeeper_willie', 15: 'homer_simpson', 16: 'kent_brockman', 17: 'krusty_the_clown', 18: 'lenny_leonard', 19: 'lionel_hutz', 20: 'lisa_simpson', 21: 'maggie_simpson', 22: 'marge_simpson', 23: 'martin_prince', 24: 'mayor_quimby', 25: 'milhouse_van_houten', 26: 'miss_hoover', 27: 'moe_szyslak', 28: 'ned_flanders', 29: 'nelson_muntz', 30: 'otto_mann', 31: 'patty_bouvier', 32: 'principal_skinner', 33: 'professor_john_frink', 34: 'rainier_wolfcastle', 35: 'ralph_wiggum', 36: 'selma_bouvier', 37: 'sideshow_bob', 38: 'sideshow_mel', 39: 'snake_jailbird', 40: 'troy_mcclure', 41: 'waylon_smithers'}\n"
     ]
    }
   ],
   "source": [
    "print(max(valid_accs))\n",
    "model = load_model()\n",
    "\n",
    "path_for_test = '/usr/src/app/kaggle_simpson_testset'\n",
    "testset = os.listdir(path_for_test)\n",
    "val = os.listdir('/usr/src/app/simpsons_dataset_kaggle')\n",
    "key = [i for i in range(len(val))]\n",
    "\n",
    "dic = zip(key, val)\n",
    "dic = dict(dic)\n",
    "#print(dic)\n",
    "\n",
    "dic1 = dataset.dataset.class_to_idx\n",
    "dic1 = dict((v,k) for k,v in dic1.items())\n",
    "print(dic1)"
   ]
  },
  {
   "cell_type": "code",
   "execution_count": 10,
   "id": "d5826478",
   "metadata": {},
   "outputs": [],
   "source": [
    "name = []\n",
    "correct = 0\n",
    "\n",
    "for i in range(len(testset)):\n",
    "    name.append(testset[i])\n",
    "    testset[i] = tv.io.read_image(path_for_test + '/' + testset[i])\n",
    "    testset[i].resize_(3, 156, 156)\n",
    "    testset[i] = testset[i].to(torch.float32)\n",
    "    testset[i] = testset[i].to(device) / 255\n",
    "    output = model(testset[i].unsqueeze(0))\n",
    "    classified = dic1[output.argmax(dim=1).item()]\n",
    "    \n",
    "    if name[i].find(classified) != -1:\n",
    "        correct += 1"
   ]
  },
  {
   "cell_type": "code",
   "execution_count": 11,
   "id": "368f3ce4",
   "metadata": {},
   "outputs": [
    {
     "data": {
      "text/plain": [
       "49"
      ]
     },
     "execution_count": 11,
     "metadata": {},
     "output_type": "execute_result"
    }
   ],
   "source": [
    "correct"
   ]
  },
  {
   "cell_type": "code",
   "execution_count": 12,
   "id": "9eddea2f",
   "metadata": {},
   "outputs": [
    {
     "data": {
      "text/plain": [
       "974"
      ]
     },
     "execution_count": 12,
     "metadata": {},
     "output_type": "execute_result"
    }
   ],
   "source": [
    "len(testset)"
   ]
  },
  {
   "cell_type": "code",
   "execution_count": 13,
   "id": "db039496",
   "metadata": {},
   "outputs": [
    {
     "name": "stdout",
     "output_type": "stream",
     "text": [
      "422/6284 classified correct\n"
     ]
    }
   ],
   "source": [
    "def test_step():\n",
    "    correct = 0\n",
    "    # since we're not training, we don't need to calculate the gradients for our outputs\n",
    "    for images, labels in valid_set:\n",
    "        images = images.to(device)\n",
    "            \n",
    "        #output = model(images)\n",
    "            \n",
    "        output = model(testset[i].unsqueeze(0))\n",
    "        classified = output.argmax(dim=1).item()\n",
    "        \n",
    "        if(classified == labels):\n",
    "            correct += 1\n",
    "    \n",
    "    print('{0}/{1} classified correct'.format(correct, len(valid_set)))\n",
    "\n",
    "test_step()"
   ]
  },
  {
   "cell_type": "code",
   "execution_count": null,
   "id": "9ef30f5d",
   "metadata": {},
   "outputs": [],
   "source": []
  }
 ],
 "metadata": {
  "kernelspec": {
   "display_name": "Python 3 (ipykernel)",
   "language": "python",
   "name": "python3"
  },
  "language_info": {
   "codemirror_mode": {
    "name": "ipython",
    "version": 3
   },
   "file_extension": ".py",
   "mimetype": "text/x-python",
   "name": "python",
   "nbconvert_exporter": "python",
   "pygments_lexer": "ipython3",
   "version": "3.8.10"
  }
 },
 "nbformat": 4,
 "nbformat_minor": 5
}
